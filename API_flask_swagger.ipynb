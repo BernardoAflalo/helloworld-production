{
 "cells": [
  {
   "cell_type": "code",
   "execution_count": 1,
   "metadata": {},
   "outputs": [
    {
     "name": "stdout",
     "output_type": "stream",
     "text": [
      " * Serving Flask app \"__main__\" (lazy loading)\n",
      " * Environment: production\n",
      "   WARNING: This is a development server. Do not use it in a production deployment.\n",
      "   Use a production WSGI server instead.\n",
      " * Debug mode: off\n"
     ]
    },
    {
     "name": "stderr",
     "output_type": "stream",
     "text": [
      " * Running on http://127.0.0.1:5000/ (Press CTRL+C to quit)\n"
     ]
    }
   ],
   "source": [
    "# Abra a documentação usando http://localhost:5000/apidocs/\n",
    "from flask import Flask, jsonify\n",
    "from flasgger import Swagger\n",
    "\n",
    "app = Flask(__name__)\n",
    "swagger = Swagger(app)\n",
    "\n",
    "@app.route('/colors/<palette>/')\n",
    "def colors(palette):\n",
    "    \"\"\"Example endpoint returning a list of colors by palette\n",
    "    This is using docstrings for specifications.    \n",
    "    ---\n",
    "    parameters:\n",
    "      - name: palette\n",
    "        in: path\n",
    "        type: string\n",
    "        enum: ['all', 'rgb', 'cmyk']\n",
    "        required: true\n",
    "        default: all\n",
    "    definitions:\n",
    "      Palette:\n",
    "        type: object\n",
    "        properties:\n",
    "          palette_name:\n",
    "            type: array\n",
    "            items:\n",
    "              $ref: '#/definitions/Color'\n",
    "      Color:\n",
    "        type: string\n",
    "    responses:\n",
    "      200:\n",
    "        description: A list of colors (may be filtered by palette)\n",
    "        schema:\n",
    "          $ref: '#/definitions/Palette'\n",
    "        examples:\n",
    "          rgb: ['red', 'green', 'blue']\n",
    "    \"\"\"\n",
    "    all_colors = {\n",
    "        'cmyk': ['cian', 'magenta', 'yellow', 'black'],\n",
    "        'rgb': ['red', 'green', 'blue']\n",
    "    }\n",
    "    if palette == 'all':\n",
    "        result = all_colors\n",
    "    else:\n",
    "        result = {palette: all_colors.get(palette)}\n",
    "\n",
    "    return jsonify(result)\n",
    "\n",
    "app.run()"
   ]
  }
 ],
 "metadata": {
  "kernelspec": {
   "display_name": "Python 3",
   "language": "python",
   "name": "python3"
  },
  "language_info": {
   "codemirror_mode": {
    "name": "ipython",
    "version": 3
   },
   "file_extension": ".py",
   "mimetype": "text/x-python",
   "name": "python",
   "nbconvert_exporter": "python",
   "pygments_lexer": "ipython3",
   "version": "3.7.6"
  }
 },
 "nbformat": 4,
 "nbformat_minor": 4
}
